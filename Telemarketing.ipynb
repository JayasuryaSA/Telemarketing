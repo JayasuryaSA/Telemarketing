{
  "nbformat": 4,
  "nbformat_minor": 0,
  "metadata": {
    "colab": {
      "name": "Telemarketing.ipynb",
      "provenance": [],
      "collapsed_sections": []
    },
    "kernelspec": {
      "display_name": "Python 3",
      "name": "python3"
    },
    "language_info": {
      "name": "python"
    }
  },
  "cells": [
    {
      "cell_type": "code",
      "metadata": {
        "id": "awJcRcYAY7aS"
      },
      "source": [
        "from sklearn.linear_model import LogisticRegression\n",
        "from sklearn.feature_selection import SelectKBest, f_classif\n",
        "from sklearn.linear_model import LinearRegression\n",
        "from sklearn.linear_model import SGDClassifier\n",
        "from sklearn.model_selection import train_test_split\n",
        "from sklearn import model_selection, svm\n",
        "from sklearn.metrics import roc_curve, auc\n",
        "from sklearn.svm import SVC\n",
        "from sklearn.tree import DecisionTreeClassifier\n",
        "from sklearn.neural_network import MLPClassifier\n",
        "from sklearn.ensemble import RandomForestClassifier\n",
        "from sklearn.naive_bayes import GaussianNB\n",
        "\n",
        "import matplotlib.pyplot as plt\n",
        "import pandas as pd\n",
        "import numpy as np\n"
      ],
      "execution_count": null,
      "outputs": []
    },
    {
      "cell_type": "code",
      "metadata": {
        "colab": {
          "base_uri": "https://localhost:8080/"
        },
        "id": "WgsgnX85ZI78",
        "outputId": "9f37269f-a402-43a9-d201-6a1c7a8e0279"
      },
      "source": [
        "from google.colab import drive\n",
        "drive.mount('/content/drive/')"
      ],
      "execution_count": null,
      "outputs": [
        {
          "output_type": "stream",
          "name": "stdout",
          "text": [
            "Mounted at /content/drive/\n"
          ]
        }
      ]
    },
    {
      "cell_type": "code",
      "metadata": {
        "id": "aRZAPCCZZZlS"
      },
      "source": [
        "df = pd.read_csv('/content/drive/My Drive/project/Telemarketing/bank-additional-full.csv', delimiter=';')"
      ],
      "execution_count": null,
      "outputs": []
    },
    {
      "cell_type": "code",
      "metadata": {
        "colab": {
          "base_uri": "https://localhost:8080/",
          "height": 226
        },
        "id": "u1RRYqepaE-0",
        "outputId": "47b5577e-918e-4140-e3e0-50fe90f38d18"
      },
      "source": [
        "df.head()"
      ],
      "execution_count": null,
      "outputs": [
        {
          "output_type": "execute_result",
          "data": {
            "text/html": [
              "<div>\n",
              "<style scoped>\n",
              "    .dataframe tbody tr th:only-of-type {\n",
              "        vertical-align: middle;\n",
              "    }\n",
              "\n",
              "    .dataframe tbody tr th {\n",
              "        vertical-align: top;\n",
              "    }\n",
              "\n",
              "    .dataframe thead th {\n",
              "        text-align: right;\n",
              "    }\n",
              "</style>\n",
              "<table border=\"1\" class=\"dataframe\">\n",
              "  <thead>\n",
              "    <tr style=\"text-align: right;\">\n",
              "      <th></th>\n",
              "      <th>age</th>\n",
              "      <th>job</th>\n",
              "      <th>marital</th>\n",
              "      <th>education</th>\n",
              "      <th>default</th>\n",
              "      <th>housing</th>\n",
              "      <th>loan</th>\n",
              "      <th>contact</th>\n",
              "      <th>month</th>\n",
              "      <th>day_of_week</th>\n",
              "      <th>duration</th>\n",
              "      <th>campaign</th>\n",
              "      <th>pdays</th>\n",
              "      <th>previous</th>\n",
              "      <th>poutcome</th>\n",
              "      <th>emp.var.rate</th>\n",
              "      <th>cons.price.idx</th>\n",
              "      <th>cons.conf.idx</th>\n",
              "      <th>euribor3m</th>\n",
              "      <th>nr.employed</th>\n",
              "      <th>y</th>\n",
              "    </tr>\n",
              "  </thead>\n",
              "  <tbody>\n",
              "    <tr>\n",
              "      <th>0</th>\n",
              "      <td>56</td>\n",
              "      <td>housemaid</td>\n",
              "      <td>married</td>\n",
              "      <td>basic.4y</td>\n",
              "      <td>no</td>\n",
              "      <td>no</td>\n",
              "      <td>no</td>\n",
              "      <td>telephone</td>\n",
              "      <td>may</td>\n",
              "      <td>mon</td>\n",
              "      <td>261</td>\n",
              "      <td>1</td>\n",
              "      <td>999</td>\n",
              "      <td>0</td>\n",
              "      <td>nonexistent</td>\n",
              "      <td>1.1</td>\n",
              "      <td>93.994</td>\n",
              "      <td>-36.4</td>\n",
              "      <td>4.857</td>\n",
              "      <td>5191.0</td>\n",
              "      <td>no</td>\n",
              "    </tr>\n",
              "    <tr>\n",
              "      <th>1</th>\n",
              "      <td>57</td>\n",
              "      <td>services</td>\n",
              "      <td>married</td>\n",
              "      <td>high.school</td>\n",
              "      <td>unknown</td>\n",
              "      <td>no</td>\n",
              "      <td>no</td>\n",
              "      <td>telephone</td>\n",
              "      <td>may</td>\n",
              "      <td>mon</td>\n",
              "      <td>149</td>\n",
              "      <td>1</td>\n",
              "      <td>999</td>\n",
              "      <td>0</td>\n",
              "      <td>nonexistent</td>\n",
              "      <td>1.1</td>\n",
              "      <td>93.994</td>\n",
              "      <td>-36.4</td>\n",
              "      <td>4.857</td>\n",
              "      <td>5191.0</td>\n",
              "      <td>no</td>\n",
              "    </tr>\n",
              "    <tr>\n",
              "      <th>2</th>\n",
              "      <td>37</td>\n",
              "      <td>services</td>\n",
              "      <td>married</td>\n",
              "      <td>high.school</td>\n",
              "      <td>no</td>\n",
              "      <td>yes</td>\n",
              "      <td>no</td>\n",
              "      <td>telephone</td>\n",
              "      <td>may</td>\n",
              "      <td>mon</td>\n",
              "      <td>226</td>\n",
              "      <td>1</td>\n",
              "      <td>999</td>\n",
              "      <td>0</td>\n",
              "      <td>nonexistent</td>\n",
              "      <td>1.1</td>\n",
              "      <td>93.994</td>\n",
              "      <td>-36.4</td>\n",
              "      <td>4.857</td>\n",
              "      <td>5191.0</td>\n",
              "      <td>no</td>\n",
              "    </tr>\n",
              "    <tr>\n",
              "      <th>3</th>\n",
              "      <td>40</td>\n",
              "      <td>admin.</td>\n",
              "      <td>married</td>\n",
              "      <td>basic.6y</td>\n",
              "      <td>no</td>\n",
              "      <td>no</td>\n",
              "      <td>no</td>\n",
              "      <td>telephone</td>\n",
              "      <td>may</td>\n",
              "      <td>mon</td>\n",
              "      <td>151</td>\n",
              "      <td>1</td>\n",
              "      <td>999</td>\n",
              "      <td>0</td>\n",
              "      <td>nonexistent</td>\n",
              "      <td>1.1</td>\n",
              "      <td>93.994</td>\n",
              "      <td>-36.4</td>\n",
              "      <td>4.857</td>\n",
              "      <td>5191.0</td>\n",
              "      <td>no</td>\n",
              "    </tr>\n",
              "    <tr>\n",
              "      <th>4</th>\n",
              "      <td>56</td>\n",
              "      <td>services</td>\n",
              "      <td>married</td>\n",
              "      <td>high.school</td>\n",
              "      <td>no</td>\n",
              "      <td>no</td>\n",
              "      <td>yes</td>\n",
              "      <td>telephone</td>\n",
              "      <td>may</td>\n",
              "      <td>mon</td>\n",
              "      <td>307</td>\n",
              "      <td>1</td>\n",
              "      <td>999</td>\n",
              "      <td>0</td>\n",
              "      <td>nonexistent</td>\n",
              "      <td>1.1</td>\n",
              "      <td>93.994</td>\n",
              "      <td>-36.4</td>\n",
              "      <td>4.857</td>\n",
              "      <td>5191.0</td>\n",
              "      <td>no</td>\n",
              "    </tr>\n",
              "  </tbody>\n",
              "</table>\n",
              "</div>"
            ],
            "text/plain": [
              "   age        job  marital  ... euribor3m nr.employed   y\n",
              "0   56  housemaid  married  ...     4.857      5191.0  no\n",
              "1   57   services  married  ...     4.857      5191.0  no\n",
              "2   37   services  married  ...     4.857      5191.0  no\n",
              "3   40     admin.  married  ...     4.857      5191.0  no\n",
              "4   56   services  married  ...     4.857      5191.0  no\n",
              "\n",
              "[5 rows x 21 columns]"
            ]
          },
          "metadata": {},
          "execution_count": 4
        }
      ]
    },
    {
      "cell_type": "code",
      "metadata": {
        "colab": {
          "base_uri": "https://localhost:8080/"
        },
        "id": "FCTOvYmNaLck",
        "outputId": "49b373a3-ee98-4bbf-a205-f42d6a309ca5"
      },
      "source": [
        "# checking if the data set as null values\n",
        "df.isnull().sum()"
      ],
      "execution_count": null,
      "outputs": [
        {
          "output_type": "execute_result",
          "data": {
            "text/plain": [
              "age               0\n",
              "job               0\n",
              "marital           0\n",
              "education         0\n",
              "default           0\n",
              "housing           0\n",
              "loan              0\n",
              "contact           0\n",
              "month             0\n",
              "day_of_week       0\n",
              "duration          0\n",
              "campaign          0\n",
              "pdays             0\n",
              "previous          0\n",
              "poutcome          0\n",
              "emp.var.rate      0\n",
              "cons.price.idx    0\n",
              "cons.conf.idx     0\n",
              "euribor3m         0\n",
              "nr.employed       0\n",
              "y                 0\n",
              "dtype: int64"
            ]
          },
          "metadata": {},
          "execution_count": 5
        }
      ]
    },
    {
      "cell_type": "markdown",
      "metadata": {
        "id": "c657-pyPaxvJ"
      },
      "source": [
        "#Converting the columns with categorical features to dummy variables"
      ]
    },
    {
      "cell_type": "code",
      "metadata": {
        "id": "-k_1cxzSa3Oc"
      },
      "source": [
        "def encode_and_bind(original_dataframe, feature_to_encode):\n",
        "    dummies = pd.get_dummies(original_dataframe[[feature_to_encode]],prefix=feature_to_encode).iloc[:,1:]\n",
        "    res = pd.concat([original_dataframe, dummies], axis=1)\n",
        "    res = res.drop([feature_to_encode], axis=1)\n",
        "    return(res)"
      ],
      "execution_count": null,
      "outputs": []
    },
    {
      "cell_type": "code",
      "metadata": {
        "id": "UJqk1WEEbASN"
      },
      "source": [
        "columns = [ 'job', 'marital','education', 'default', 'housing','loan','contact','month','day_of_week','poutcome','y']"
      ],
      "execution_count": null,
      "outputs": []
    },
    {
      "cell_type": "code",
      "metadata": {
        "id": "mWq8LKeqbCtu"
      },
      "source": [
        "df_copy = df\n",
        "data = df"
      ],
      "execution_count": null,
      "outputs": []
    },
    {
      "cell_type": "code",
      "metadata": {
        "id": "0rcqL0CQbFus"
      },
      "source": [
        "for i in columns:\n",
        "    data = encode_and_bind(data, i)"
      ],
      "execution_count": null,
      "outputs": []
    },
    {
      "cell_type": "code",
      "metadata": {
        "colab": {
          "base_uri": "https://localhost:8080/",
          "height": 243
        },
        "id": "PvETik5ebIsN",
        "outputId": "56bb49a2-7c71-434d-be2b-d855a98b3243"
      },
      "source": [
        "data.head()"
      ],
      "execution_count": null,
      "outputs": [
        {
          "output_type": "execute_result",
          "data": {
            "text/html": [
              "<div>\n",
              "<style scoped>\n",
              "    .dataframe tbody tr th:only-of-type {\n",
              "        vertical-align: middle;\n",
              "    }\n",
              "\n",
              "    .dataframe tbody tr th {\n",
              "        vertical-align: top;\n",
              "    }\n",
              "\n",
              "    .dataframe thead th {\n",
              "        text-align: right;\n",
              "    }\n",
              "</style>\n",
              "<table border=\"1\" class=\"dataframe\">\n",
              "  <thead>\n",
              "    <tr style=\"text-align: right;\">\n",
              "      <th></th>\n",
              "      <th>age</th>\n",
              "      <th>duration</th>\n",
              "      <th>campaign</th>\n",
              "      <th>pdays</th>\n",
              "      <th>previous</th>\n",
              "      <th>emp.var.rate</th>\n",
              "      <th>cons.price.idx</th>\n",
              "      <th>cons.conf.idx</th>\n",
              "      <th>euribor3m</th>\n",
              "      <th>nr.employed</th>\n",
              "      <th>job_blue-collar</th>\n",
              "      <th>job_entrepreneur</th>\n",
              "      <th>job_housemaid</th>\n",
              "      <th>job_management</th>\n",
              "      <th>job_retired</th>\n",
              "      <th>job_self-employed</th>\n",
              "      <th>job_services</th>\n",
              "      <th>job_student</th>\n",
              "      <th>job_technician</th>\n",
              "      <th>job_unemployed</th>\n",
              "      <th>job_unknown</th>\n",
              "      <th>marital_married</th>\n",
              "      <th>marital_single</th>\n",
              "      <th>marital_unknown</th>\n",
              "      <th>education_basic.6y</th>\n",
              "      <th>education_basic.9y</th>\n",
              "      <th>education_high.school</th>\n",
              "      <th>education_illiterate</th>\n",
              "      <th>education_professional.course</th>\n",
              "      <th>education_university.degree</th>\n",
              "      <th>education_unknown</th>\n",
              "      <th>default_unknown</th>\n",
              "      <th>default_yes</th>\n",
              "      <th>housing_unknown</th>\n",
              "      <th>housing_yes</th>\n",
              "      <th>loan_unknown</th>\n",
              "      <th>loan_yes</th>\n",
              "      <th>contact_telephone</th>\n",
              "      <th>month_aug</th>\n",
              "      <th>month_dec</th>\n",
              "      <th>month_jul</th>\n",
              "      <th>month_jun</th>\n",
              "      <th>month_mar</th>\n",
              "      <th>month_may</th>\n",
              "      <th>month_nov</th>\n",
              "      <th>month_oct</th>\n",
              "      <th>month_sep</th>\n",
              "      <th>day_of_week_mon</th>\n",
              "      <th>day_of_week_thu</th>\n",
              "      <th>day_of_week_tue</th>\n",
              "      <th>day_of_week_wed</th>\n",
              "      <th>poutcome_nonexistent</th>\n",
              "      <th>poutcome_success</th>\n",
              "      <th>y_yes</th>\n",
              "    </tr>\n",
              "  </thead>\n",
              "  <tbody>\n",
              "    <tr>\n",
              "      <th>0</th>\n",
              "      <td>56</td>\n",
              "      <td>261</td>\n",
              "      <td>1</td>\n",
              "      <td>999</td>\n",
              "      <td>0</td>\n",
              "      <td>1.1</td>\n",
              "      <td>93.994</td>\n",
              "      <td>-36.4</td>\n",
              "      <td>4.857</td>\n",
              "      <td>5191.0</td>\n",
              "      <td>0</td>\n",
              "      <td>0</td>\n",
              "      <td>1</td>\n",
              "      <td>0</td>\n",
              "      <td>0</td>\n",
              "      <td>0</td>\n",
              "      <td>0</td>\n",
              "      <td>0</td>\n",
              "      <td>0</td>\n",
              "      <td>0</td>\n",
              "      <td>0</td>\n",
              "      <td>1</td>\n",
              "      <td>0</td>\n",
              "      <td>0</td>\n",
              "      <td>0</td>\n",
              "      <td>0</td>\n",
              "      <td>0</td>\n",
              "      <td>0</td>\n",
              "      <td>0</td>\n",
              "      <td>0</td>\n",
              "      <td>0</td>\n",
              "      <td>0</td>\n",
              "      <td>0</td>\n",
              "      <td>0</td>\n",
              "      <td>0</td>\n",
              "      <td>0</td>\n",
              "      <td>0</td>\n",
              "      <td>1</td>\n",
              "      <td>0</td>\n",
              "      <td>0</td>\n",
              "      <td>0</td>\n",
              "      <td>0</td>\n",
              "      <td>0</td>\n",
              "      <td>1</td>\n",
              "      <td>0</td>\n",
              "      <td>0</td>\n",
              "      <td>0</td>\n",
              "      <td>1</td>\n",
              "      <td>0</td>\n",
              "      <td>0</td>\n",
              "      <td>0</td>\n",
              "      <td>1</td>\n",
              "      <td>0</td>\n",
              "      <td>0</td>\n",
              "    </tr>\n",
              "    <tr>\n",
              "      <th>1</th>\n",
              "      <td>57</td>\n",
              "      <td>149</td>\n",
              "      <td>1</td>\n",
              "      <td>999</td>\n",
              "      <td>0</td>\n",
              "      <td>1.1</td>\n",
              "      <td>93.994</td>\n",
              "      <td>-36.4</td>\n",
              "      <td>4.857</td>\n",
              "      <td>5191.0</td>\n",
              "      <td>0</td>\n",
              "      <td>0</td>\n",
              "      <td>0</td>\n",
              "      <td>0</td>\n",
              "      <td>0</td>\n",
              "      <td>0</td>\n",
              "      <td>1</td>\n",
              "      <td>0</td>\n",
              "      <td>0</td>\n",
              "      <td>0</td>\n",
              "      <td>0</td>\n",
              "      <td>1</td>\n",
              "      <td>0</td>\n",
              "      <td>0</td>\n",
              "      <td>0</td>\n",
              "      <td>0</td>\n",
              "      <td>1</td>\n",
              "      <td>0</td>\n",
              "      <td>0</td>\n",
              "      <td>0</td>\n",
              "      <td>0</td>\n",
              "      <td>1</td>\n",
              "      <td>0</td>\n",
              "      <td>0</td>\n",
              "      <td>0</td>\n",
              "      <td>0</td>\n",
              "      <td>0</td>\n",
              "      <td>1</td>\n",
              "      <td>0</td>\n",
              "      <td>0</td>\n",
              "      <td>0</td>\n",
              "      <td>0</td>\n",
              "      <td>0</td>\n",
              "      <td>1</td>\n",
              "      <td>0</td>\n",
              "      <td>0</td>\n",
              "      <td>0</td>\n",
              "      <td>1</td>\n",
              "      <td>0</td>\n",
              "      <td>0</td>\n",
              "      <td>0</td>\n",
              "      <td>1</td>\n",
              "      <td>0</td>\n",
              "      <td>0</td>\n",
              "    </tr>\n",
              "    <tr>\n",
              "      <th>2</th>\n",
              "      <td>37</td>\n",
              "      <td>226</td>\n",
              "      <td>1</td>\n",
              "      <td>999</td>\n",
              "      <td>0</td>\n",
              "      <td>1.1</td>\n",
              "      <td>93.994</td>\n",
              "      <td>-36.4</td>\n",
              "      <td>4.857</td>\n",
              "      <td>5191.0</td>\n",
              "      <td>0</td>\n",
              "      <td>0</td>\n",
              "      <td>0</td>\n",
              "      <td>0</td>\n",
              "      <td>0</td>\n",
              "      <td>0</td>\n",
              "      <td>1</td>\n",
              "      <td>0</td>\n",
              "      <td>0</td>\n",
              "      <td>0</td>\n",
              "      <td>0</td>\n",
              "      <td>1</td>\n",
              "      <td>0</td>\n",
              "      <td>0</td>\n",
              "      <td>0</td>\n",
              "      <td>0</td>\n",
              "      <td>1</td>\n",
              "      <td>0</td>\n",
              "      <td>0</td>\n",
              "      <td>0</td>\n",
              "      <td>0</td>\n",
              "      <td>0</td>\n",
              "      <td>0</td>\n",
              "      <td>0</td>\n",
              "      <td>1</td>\n",
              "      <td>0</td>\n",
              "      <td>0</td>\n",
              "      <td>1</td>\n",
              "      <td>0</td>\n",
              "      <td>0</td>\n",
              "      <td>0</td>\n",
              "      <td>0</td>\n",
              "      <td>0</td>\n",
              "      <td>1</td>\n",
              "      <td>0</td>\n",
              "      <td>0</td>\n",
              "      <td>0</td>\n",
              "      <td>1</td>\n",
              "      <td>0</td>\n",
              "      <td>0</td>\n",
              "      <td>0</td>\n",
              "      <td>1</td>\n",
              "      <td>0</td>\n",
              "      <td>0</td>\n",
              "    </tr>\n",
              "    <tr>\n",
              "      <th>3</th>\n",
              "      <td>40</td>\n",
              "      <td>151</td>\n",
              "      <td>1</td>\n",
              "      <td>999</td>\n",
              "      <td>0</td>\n",
              "      <td>1.1</td>\n",
              "      <td>93.994</td>\n",
              "      <td>-36.4</td>\n",
              "      <td>4.857</td>\n",
              "      <td>5191.0</td>\n",
              "      <td>0</td>\n",
              "      <td>0</td>\n",
              "      <td>0</td>\n",
              "      <td>0</td>\n",
              "      <td>0</td>\n",
              "      <td>0</td>\n",
              "      <td>0</td>\n",
              "      <td>0</td>\n",
              "      <td>0</td>\n",
              "      <td>0</td>\n",
              "      <td>0</td>\n",
              "      <td>1</td>\n",
              "      <td>0</td>\n",
              "      <td>0</td>\n",
              "      <td>1</td>\n",
              "      <td>0</td>\n",
              "      <td>0</td>\n",
              "      <td>0</td>\n",
              "      <td>0</td>\n",
              "      <td>0</td>\n",
              "      <td>0</td>\n",
              "      <td>0</td>\n",
              "      <td>0</td>\n",
              "      <td>0</td>\n",
              "      <td>0</td>\n",
              "      <td>0</td>\n",
              "      <td>0</td>\n",
              "      <td>1</td>\n",
              "      <td>0</td>\n",
              "      <td>0</td>\n",
              "      <td>0</td>\n",
              "      <td>0</td>\n",
              "      <td>0</td>\n",
              "      <td>1</td>\n",
              "      <td>0</td>\n",
              "      <td>0</td>\n",
              "      <td>0</td>\n",
              "      <td>1</td>\n",
              "      <td>0</td>\n",
              "      <td>0</td>\n",
              "      <td>0</td>\n",
              "      <td>1</td>\n",
              "      <td>0</td>\n",
              "      <td>0</td>\n",
              "    </tr>\n",
              "    <tr>\n",
              "      <th>4</th>\n",
              "      <td>56</td>\n",
              "      <td>307</td>\n",
              "      <td>1</td>\n",
              "      <td>999</td>\n",
              "      <td>0</td>\n",
              "      <td>1.1</td>\n",
              "      <td>93.994</td>\n",
              "      <td>-36.4</td>\n",
              "      <td>4.857</td>\n",
              "      <td>5191.0</td>\n",
              "      <td>0</td>\n",
              "      <td>0</td>\n",
              "      <td>0</td>\n",
              "      <td>0</td>\n",
              "      <td>0</td>\n",
              "      <td>0</td>\n",
              "      <td>1</td>\n",
              "      <td>0</td>\n",
              "      <td>0</td>\n",
              "      <td>0</td>\n",
              "      <td>0</td>\n",
              "      <td>1</td>\n",
              "      <td>0</td>\n",
              "      <td>0</td>\n",
              "      <td>0</td>\n",
              "      <td>0</td>\n",
              "      <td>1</td>\n",
              "      <td>0</td>\n",
              "      <td>0</td>\n",
              "      <td>0</td>\n",
              "      <td>0</td>\n",
              "      <td>0</td>\n",
              "      <td>0</td>\n",
              "      <td>0</td>\n",
              "      <td>0</td>\n",
              "      <td>0</td>\n",
              "      <td>1</td>\n",
              "      <td>1</td>\n",
              "      <td>0</td>\n",
              "      <td>0</td>\n",
              "      <td>0</td>\n",
              "      <td>0</td>\n",
              "      <td>0</td>\n",
              "      <td>1</td>\n",
              "      <td>0</td>\n",
              "      <td>0</td>\n",
              "      <td>0</td>\n",
              "      <td>1</td>\n",
              "      <td>0</td>\n",
              "      <td>0</td>\n",
              "      <td>0</td>\n",
              "      <td>1</td>\n",
              "      <td>0</td>\n",
              "      <td>0</td>\n",
              "    </tr>\n",
              "  </tbody>\n",
              "</table>\n",
              "</div>"
            ],
            "text/plain": [
              "   age  duration  campaign  ...  poutcome_nonexistent  poutcome_success  y_yes\n",
              "0   56       261         1  ...                     1                 0      0\n",
              "1   57       149         1  ...                     1                 0      0\n",
              "2   37       226         1  ...                     1                 0      0\n",
              "3   40       151         1  ...                     1                 0      0\n",
              "4   56       307         1  ...                     1                 0      0\n",
              "\n",
              "[5 rows x 54 columns]"
            ]
          },
          "metadata": {},
          "execution_count": 10
        }
      ]
    },
    {
      "cell_type": "code",
      "metadata": {
        "colab": {
          "base_uri": "https://localhost:8080/"
        },
        "id": "Sl3yQIo5bNU3",
        "outputId": "8beeae82-1cc9-404e-c024-934c2f122838"
      },
      "source": [
        "data.shape"
      ],
      "execution_count": null,
      "outputs": [
        {
          "output_type": "execute_result",
          "data": {
            "text/plain": [
              "(41188, 54)"
            ]
          },
          "metadata": {},
          "execution_count": 11
        }
      ]
    },
    {
      "cell_type": "code",
      "metadata": {
        "id": "rZoPrPT1ba3u"
      },
      "source": [
        "X = data.drop(['y_yes'],axis=1)\n",
        "Y = data['y_yes']"
      ],
      "execution_count": null,
      "outputs": []
    },
    {
      "cell_type": "markdown",
      "metadata": {
        "id": "0KxJvB6BcAeh"
      },
      "source": [
        "#Creating decission tree classifier\n"
      ]
    },
    {
      "cell_type": "code",
      "metadata": {
        "id": "ZbGCrd7vb20w"
      },
      "source": [
        "# creating Decision Tree and RandomForestClassifie\n",
        "model_dt_E_1 = DecisionTreeClassifier(max_depth=1, criterion='entropy', random_state=0)\n",
        "model_dt_E_2 = DecisionTreeClassifier(max_depth=2, criterion='entropy', random_state=0)\n",
        "model_dt_E_N = DecisionTreeClassifier(criterion='entropy', random_state=0)\n",
        "model_dt_G_1 = DecisionTreeClassifier(max_depth=1, criterion='gini', random_state=0)\n",
        "model_dt_G_2 = DecisionTreeClassifier(max_depth=2, criterion='gini', random_state=0)\n",
        "model_dt_G_N = DecisionTreeClassifier( criterion='gini', random_state=0)\n",
        "\n",
        "\n",
        "\n",
        "results = {}\n",
        "kfold = 10\n",
        "\n",
        "# Findind the cross validation score for Decision Tree\n",
        "\n",
        "results['DecisionTree_Entropy_1'] = model_selection.cross_val_score(model_dt_E_1, X, Y, cv = kfold).mean()\n",
        "results['DecisionTree_Entropy_2'] = model_selection.cross_val_score(model_dt_E_2, X, Y, cv = kfold).mean()\n",
        "results['DecisionTree_Entropy_N'] = model_selection.cross_val_score(model_dt_E_N, X, Y, cv = kfold).mean()\n",
        "results['DecisionTree_Gini_1'] = model_selection.cross_val_score(model_dt_G_1, X, Y, cv = kfold).mean()\n",
        "results['DecisionTree_Gini_2'] = model_selection.cross_val_score(model_dt_G_2, X, Y, cv = kfold).mean()\n",
        "results['DecisionTree_Gini_N'] = model_selection.cross_val_score(model_dt_G_N, X, Y, cv = kfold).mean()"
      ],
      "execution_count": null,
      "outputs": []
    },
    {
      "cell_type": "code",
      "metadata": {
        "colab": {
          "base_uri": "https://localhost:8080/"
        },
        "id": "63B-Oa10cbaS",
        "outputId": "f4dfee8b-d917-4d9c-d513-eb0350c09eec"
      },
      "source": [
        "results"
      ],
      "execution_count": null,
      "outputs": [
        {
          "output_type": "execute_result",
          "data": {
            "text/plain": [
              "{'DecisionTree_Entropy_1': 0.83171202500265,\n",
              " 'DecisionTree_Entropy_2': 0.82141826438114,\n",
              " 'DecisionTree_Entropy_N': 0.6123009246174487,\n",
              " 'DecisionTree_Gini_1': 0.83171202500265,\n",
              " 'DecisionTree_Gini_2': 0.8227286490624183,\n",
              " 'DecisionTree_Gini_N': 0.6481631515828107}"
            ]
          },
          "metadata": {},
          "execution_count": 14
        }
      ]
    },
    {
      "cell_type": "markdown",
      "metadata": {
        "id": "ZpRpqMYGcqFt"
      },
      "source": [
        "Ploting ROC curve and finding the area under the curve for Decision Tree"
      ]
    },
    {
      "cell_type": "code",
      "metadata": {
        "id": "soPH4e4McsDy"
      },
      "source": [
        "roc_train_X, roc_test_X, roc_train_Y, roc_test_Y = model_selection.train_test_split(X, Y, test_size=0.25)"
      ],
      "execution_count": null,
      "outputs": []
    },
    {
      "cell_type": "code",
      "metadata": {
        "id": "5YW0cDIEc5XU"
      },
      "source": [
        "models_Destree = [\n",
        "    {\n",
        "        'label' : 'DecisionTree_Entropy_1',\n",
        "        'model': model_dt_E_1,\n",
        "        'roc_train': roc_train_X,\n",
        "        'roc_test': roc_test_X,\n",
        "        'roc_train_class': roc_train_Y,        \n",
        "        'roc_test_class': roc_test_Y,        \n",
        "    },        \n",
        "    {\n",
        "        'label' : 'DecisionTree_Entropy_2',\n",
        "        'model': model_dt_E_2,\n",
        "        'roc_train': roc_train_X,\n",
        "        'roc_test': roc_test_X,\n",
        "        'roc_train_class': roc_train_Y,        \n",
        "        'roc_test_class': roc_test_Y,        \n",
        "    },  \n",
        "    {\n",
        "        'label' : 'DecisionTree_Entropy_N',\n",
        "        'model': model_dt_E_N ,\n",
        "        'roc_train': roc_train_X,\n",
        "        'roc_test': roc_test_X,\n",
        "        'roc_train_class': roc_train_Y,        \n",
        "        'roc_test_class': roc_test_Y,        \n",
        "    },  \n",
        "    {\n",
        "        'label' : 'DecisionTree_Gini_1',\n",
        "        'model': model_dt_G_1,\n",
        "        'roc_train': roc_train_X,\n",
        "        'roc_test': roc_test_X,\n",
        "        'roc_train_class': roc_train_Y,        \n",
        "        'roc_test_class': roc_test_Y,        \n",
        "    },        \n",
        "    {\n",
        "        'label' : 'DecisionTree_Gini_2',\n",
        "        'model': model_dt_G_2,\n",
        "        'roc_train': roc_train_X,\n",
        "        'roc_test': roc_test_X,\n",
        "        'roc_train_class': roc_train_Y,        \n",
        "        'roc_test_class': roc_test_Y,        \n",
        "    },  \n",
        "    {\n",
        "        'label' : 'DecisionTree_Gini_N',\n",
        "        'model': model_dt_G_N ,\n",
        "        'roc_train': roc_train_X,\n",
        "        'roc_test': roc_test_X,\n",
        "        'roc_train_class': roc_train_Y,        \n",
        "        'roc_test_class': roc_test_Y,        \n",
        "    }  \n",
        "\n",
        "    ]  "
      ],
      "execution_count": null,
      "outputs": []
    },
    {
      "cell_type": "code",
      "metadata": {
        "colab": {
          "base_uri": "https://localhost:8080/",
          "height": 283
        },
        "id": "qm43fLREdYDC",
        "outputId": "bb3883e5-9ad6-4efc-8eca-45a333592ea3"
      },
      "source": [
        "for m in models_Destree:\n",
        "    m['model'].probability = True\n",
        "    probas = m['model'].fit(m['roc_train'], m['roc_train_class']).predict_proba(m['roc_test'])\n",
        "    fpr, tpr, thresholds = roc_curve(m['roc_test_class'], probas[:, 1])\n",
        "    roc_auc  = auc(fpr, tpr)\n",
        "    plt.plot(fpr, tpr, label='%s ROC (area = %0.2f)' % (m['label'], roc_auc))\n",
        "\n",
        "\n",
        "plt.plot([0, 1], [0, 1], 'k--')\n",
        "plt.xlim([0.0, 1.0])\n",
        "plt.ylim([0.0, 1.0])\n",
        "plt.xlabel('False Positive Rate')\n",
        "plt.ylabel('True Positive Rate')\n",
        "plt.legend(loc=0, fontsize='small')\n",
        "plt.show()"
      ],
      "execution_count": null,
      "outputs": [
        {
          "output_type": "display_data",
          "data": {
            "image/png": "[encoded data removed]",
            "text/plain": [
              "<Figure size 432x288 with 1 Axes>"
            ]
          },
          "metadata": {
            "needs_background": "light"
          }
        }
      ]
    },
    {
      "cell_type": "markdown",
      "metadata": {
        "id": "AvlldtoveKiD"
      },
      "source": [
        "#creating Random forest"
      ]
    },
    {
      "cell_type": "code",
      "metadata": {
        "id": "MrpthXCkeIHN"
      },
      "source": [
        "model_rf_E_1 = RandomForestClassifier(max_depth=1, criterion='entropy')\n",
        "model_rf_E_2 = RandomForestClassifier(max_depth=2, criterion='entropy')\n",
        "model_rf_E_N = RandomForestClassifier(criterion='entropy')\n",
        "model_rf_G_1 = RandomForestClassifier(max_depth=1, criterion='gini')\n",
        "model_rf_G_2 = RandomForestClassifier(max_depth=2, criterion='gini')\n",
        "model_rf_G_N = RandomForestClassifier( criterion='gini')\n",
        "\n",
        "# Findind the cross validation score for Random Forest Classifier\n",
        "\n",
        "results['RandomForestClassifier_Entropy_1'] = model_selection.cross_val_score(model_rf_E_1, X, Y, cv = kfold).mean()\n",
        "results['RandomForestClassifier_Entropy_2'] = model_selection.cross_val_score(model_rf_E_2, X, Y, cv = kfold).mean()\n",
        "results['RandomForestClassifier_Entropy_N'] = model_selection.cross_val_score(model_rf_E_N, X, Y, cv = kfold).mean()\n",
        "results['RandomForestClassifier_Gini_1'] = model_selection.cross_val_score(model_rf_G_1, X, Y, cv = kfold).mean()\n",
        "results['RandomForestClassifier_Gini_2'] = model_selection.cross_val_score(model_rf_G_2, X, Y, cv = kfold).mean()\n",
        "results['RandomForestClassifier_Gini_N'] = model_selection.cross_val_score(model_rf_G_N, X, Y, cv = kfold).mean()"
      ],
      "execution_count": null,
      "outputs": []
    },
    {
      "cell_type": "code",
      "metadata": {
        "colab": {
          "base_uri": "https://localhost:8080/"
        },
        "id": "ojUHax_sexa_",
        "outputId": "dd07209c-3f49-4005-827e-9458c09cb16a"
      },
      "source": [
        "results"
      ],
      "execution_count": null,
      "outputs": [
        {
          "output_type": "execute_result",
          "data": {
            "text/plain": [
              "{'DecisionTree_Entropy_1': 0.83171202500265,\n",
              " 'DecisionTree_Entropy_2': 0.82141826438114,\n",
              " 'DecisionTree_Entropy_N': 0.6123009246174487,\n",
              " 'DecisionTree_Gini_1': 0.83171202500265,\n",
              " 'DecisionTree_Gini_2': 0.8227286490624183,\n",
              " 'DecisionTree_Gini_N': 0.6481631515828107,\n",
              " 'RandomForestClassifier_Entropy_1': 0.8549028943567054,\n",
              " 'RandomForestClassifier_Entropy_2': 0.8476422060504273,\n",
              " 'RandomForestClassifier_Entropy_N': 0.6739973288593437,\n",
              " 'RandomForestClassifier_Gini_1': 0.8553399997476718,\n",
              " 'RandomForestClassifier_Gini_2': 0.8448252162092276,\n",
              " 'RandomForestClassifier_Gini_N': 0.6533370156729951}"
            ]
          },
          "metadata": {},
          "execution_count": 19
        }
      ]
    },
    {
      "cell_type": "markdown",
      "metadata": {
        "id": "P0yPmIrie1bE"
      },
      "source": [
        "Ploting ROC curve and finding the area under the curve for Random Forest Classifier"
      ]
    },
    {
      "cell_type": "code",
      "metadata": {
        "id": "KauLo1Ube4Ko"
      },
      "source": [
        "models_Ranfor = [\n",
        "    {\n",
        "        'label' : 'RandomForestClassifier_Entropy_1',\n",
        "        'model': model_rf_E_1,\n",
        "        'roc_train': roc_train_X,\n",
        "        'roc_test': roc_test_X,\n",
        "        'roc_train_class': roc_train_Y,        \n",
        "        'roc_test_class': roc_test_Y,        \n",
        "    },        \n",
        "    {\n",
        "        'label' : 'RandomForestClassifier_Entropy_2',\n",
        "        'model': model_rf_E_2,\n",
        "        'roc_train': roc_train_X,\n",
        "        'roc_test': roc_test_X,\n",
        "        'roc_train_class': roc_train_Y,        \n",
        "        'roc_test_class': roc_test_Y,        \n",
        "    },  \n",
        "    {\n",
        "        'label' : 'RandomForestClassifier_Entropy_N',\n",
        "        'model': model_rf_E_N ,\n",
        "        'roc_train': roc_train_X,\n",
        "        'roc_test': roc_test_X,\n",
        "        'roc_train_class': roc_train_Y,        \n",
        "        'roc_test_class': roc_test_Y,        \n",
        "    },  \n",
        "    {\n",
        "        'label' : 'RandomForestClassifier_Gini_1',\n",
        "        'model': model_rf_G_1,\n",
        "        'roc_train': roc_train_X,\n",
        "        'roc_test': roc_test_X,\n",
        "        'roc_train_class': roc_train_Y,        \n",
        "        'roc_test_class': roc_test_Y,        \n",
        "    },        \n",
        "    {\n",
        "        'label' : 'RandomForestClassifier_Gini_2',\n",
        "        'model': model_rf_G_2,\n",
        "        'roc_train': roc_train_X,\n",
        "        'roc_test': roc_test_X,\n",
        "        'roc_train_class': roc_train_Y,        \n",
        "        'roc_test_class': roc_test_Y,        \n",
        "    },  \n",
        "    {\n",
        "        'label' : 'RandomForestClassifier_Gini_N',\n",
        "        'model': model_rf_G_N ,\n",
        "        'roc_train': roc_train_X,\n",
        "        'roc_test': roc_test_X,\n",
        "        'roc_train_class': roc_train_Y,        \n",
        "        'roc_test_class': roc_test_Y,        \n",
        "    }\n",
        "]"
      ],
      "execution_count": null,
      "outputs": []
    },
    {
      "cell_type": "code",
      "metadata": {
        "colab": {
          "base_uri": "https://localhost:8080/",
          "height": 283
        },
        "id": "m4MBnhZKfQBf",
        "outputId": "0c834607-249d-4c93-cb8f-f3c4901e6ce1"
      },
      "source": [
        "for m in models_Ranfor:\n",
        "    m['model'].probability = True\n",
        "    probas = m['model'].fit(m['roc_train'], m['roc_train_class']).predict_proba(m['roc_test'])\n",
        "    fpr, tpr, thresholds = roc_curve(m['roc_test_class'], probas[:, 1])\n",
        "    roc_auc  = auc(fpr, tpr)\n",
        "    plt.plot(fpr, tpr, label='%s ROC (area = %0.2f)' % (m['label'], roc_auc))\n",
        "\n",
        "\n",
        "plt.plot([0, 1], [0, 1], 'k--')\n",
        "plt.xlim([0.0, 1.0])\n",
        "plt.ylim([0.0, 1.0])\n",
        "plt.xlabel('False Positive Rate')\n",
        "plt.ylabel('True Positive Rate')\n",
        "plt.legend(loc=0, fontsize='small')\n",
        "plt.show()"
      ],
      "execution_count": null,
      "outputs": [
        {
          "output_type": "display_data",
          "data": {
            "image/png": "[encoded data removed]",
            "text/plain": [
              "<Figure size 432x288 with 1 Axes>"
            ]
          },
          "metadata": {
            "needs_background": "light"
          }
        }
      ]
    },
    {
      "cell_type": "markdown",
      "metadata": {
        "id": "yWqkh50Of9vb"
      },
      "source": [
        "#Creating naive bayes classifier and Ploting ROC curve"
      ]
    },
    {
      "cell_type": "code",
      "metadata": {
        "id": "iPwlBqFyf8tA"
      },
      "source": [
        "model_NB = GaussianNB(priors=None, var_smoothing=1e-09)\n",
        "\n",
        "results['NB'] = model_selection.cross_val_score(model_NB, X, Y, cv = kfold).mean()"
      ],
      "execution_count": null,
      "outputs": []
    },
    {
      "cell_type": "code",
      "metadata": {
        "colab": {
          "base_uri": "https://localhost:8080/"
        },
        "id": "CkzOmWDygH57",
        "outputId": "58202221-3345-40a2-ffb3-11567211bf14"
      },
      "source": [
        "results['NB']"
      ],
      "execution_count": null,
      "outputs": [
        {
          "output_type": "execute_result",
          "data": {
            "text/plain": [
              "0.8082629261264651"
            ]
          },
          "metadata": {},
          "execution_count": 23
        }
      ]
    },
    {
      "cell_type": "code",
      "metadata": {
        "colab": {
          "base_uri": "https://localhost:8080/",
          "height": 283
        },
        "id": "9jXykqvtgQmk",
        "outputId": "f1e83da8-eb9b-4972-94bc-57be229b2deb"
      },
      "source": [
        "models_NB = [\n",
        "    {\n",
        "        'label' : 'naive_bayes_classifier',\n",
        "        'model': model_NB,\n",
        "        'roc_train': roc_train_X,\n",
        "        'roc_test': roc_test_X,\n",
        "        'roc_train_class': roc_train_Y,        \n",
        "        'roc_test_class': roc_test_Y,        \n",
        "    }\n",
        "]\n",
        "\n",
        "for m in models_NB:\n",
        "    m['model'].probability = True\n",
        "    probas = m['model'].fit(m['roc_train'], m['roc_train_class']).predict_proba(m['roc_test'])\n",
        "    fpr, tpr, thresholds = roc_curve(m['roc_test_class'], probas[:, 1])\n",
        "    roc_auc  = auc(fpr, tpr)\n",
        "    plt.plot(fpr, tpr, label='%s ROC (area = %0.2f)' % (m['label'], roc_auc))\n",
        "\n",
        "\n",
        "plt.plot([0, 1], [0, 1], 'k--')\n",
        "plt.xlim([0.0, 1.0])\n",
        "plt.ylim([0.0, 1.0])\n",
        "plt.xlabel('False Positive Rate')\n",
        "plt.ylabel('True Positive Rate')\n",
        "plt.legend(loc=0, fontsize='small')\n",
        "plt.show()"
      ],
      "execution_count": null,
      "outputs": [
        {
          "output_type": "display_data",
          "data": {
            "image/png": "[encoded data removed]",
            "text/plain": [
              "<Figure size 432x288 with 1 Axes>"
            ]
          },
          "metadata": {
            "needs_background": "light"
          }
        }
      ]
    },
    {
      "cell_type": "markdown",
      "metadata": {
        "id": "Z5U4-vStgVj2"
      },
      "source": [
        "#Creating SVM classifier and Ploting ROC curve"
      ]
    },
    {
      "cell_type": "code",
      "metadata": {
        "id": "SjwLv-R7gYo_"
      },
      "source": [
        "model_svc_1 = SVC(C=1,kernel='rbf', random_state=0)\n",
        "model_svc_0 = SVC(C=0.1,kernel='rbf', random_state=0)\n",
        "model_svc_3 = SVC(C=3,kernel='rbf', random_state=0)\n",
        "\n",
        "models_SVM = [\n",
        "    {\n",
        "        'label' : 'SVM_1',\n",
        "        'model': model_svc_1,\n",
        "        'roc_train': roc_train_X,\n",
        "        'roc_test': roc_test_X,\n",
        "        'roc_train_class': roc_train_Y,        \n",
        "        'roc_test_class': roc_test_Y,        \n",
        "    }, \n",
        "    {\n",
        "        'label' : 'SVM_0',\n",
        "        'model': model_svc_0,\n",
        "        'roc_train': roc_train_X,\n",
        "        'roc_test': roc_test_X,\n",
        "        'roc_train_class': roc_train_Y,        \n",
        "        'roc_test_class': roc_test_Y,        \n",
        "    }, \n",
        "    {\n",
        "        'label' : 'SVM_3',\n",
        "        'model': model_svc_3,\n",
        "        'roc_train': roc_train_X,\n",
        "        'roc_test': roc_test_X,\n",
        "        'roc_train_class': roc_train_Y,        \n",
        "        'roc_test_class': roc_test_Y,        \n",
        "    },        \n",
        "]"
      ],
      "execution_count": null,
      "outputs": []
    },
    {
      "cell_type": "code",
      "metadata": {
        "colab": {
          "base_uri": "https://localhost:8080/",
          "height": 283
        },
        "id": "_n0KJ-lagkJM",
        "outputId": "7d2cd431-3eba-4256-9ed2-2fe4626d65ff"
      },
      "source": [
        "for m in models_SVM:\n",
        "    m['model'].probability = True\n",
        "    probas = m['model'].fit(m['roc_train'], m['roc_train_class']).predict_proba(m['roc_test'])\n",
        "    fpr, tpr, thresholds = roc_curve(m['roc_test_class'], probas[:, 1])\n",
        "    roc_auc  = auc(fpr, tpr)\n",
        "    plt.plot(fpr, tpr, label='%s ROC (area = %0.2f)' % (m['label'], roc_auc))\n",
        "\n",
        "\n",
        "plt.plot([0, 1], [0, 1], 'k--')\n",
        "plt.xlim([0.0, 1.0])\n",
        "plt.ylim([0.0, 1.0])\n",
        "plt.xlabel('False Positive Rate')\n",
        "plt.ylabel('True Positive Rate')\n",
        "plt.legend(loc=0, fontsize='small')\n",
        "plt.show()"
      ],
      "execution_count": null,
      "outputs": [
        {
          "output_type": "display_data",
          "data": {
            "image/png": "[encoded data removed]",
            "text/plain": [
              "<Figure size 432x288 with 1 Axes>"
            ]
          },
          "metadata": {
            "needs_background": "light"
          }
        }
      ]
    },
    {
      "cell_type": "markdown",
      "metadata": {
        "id": "2tZ3iZ0xhAqT"
      },
      "source": [
        "#Creating Logistic Regression classifier and Ploting ROC curve"
      ]
    },
    {
      "cell_type": "code",
      "metadata": {
        "id": "7B-oG3_wklpu"
      },
      "source": [
        "from sklearn.linear_model import LinearRegression, Ridge, Lasso"
      ],
      "execution_count": null,
      "outputs": []
    },
    {
      "cell_type": "code",
      "metadata": {
        "colab": {
          "base_uri": "https://localhost:8080/"
        },
        "id": "_CrZUQi3hBVw",
        "outputId": "e1a8c33c-0f7c-4fb5-fbb3-aa78dbd047d3"
      },
      "source": [
        " \n",
        "model_lr_l2 = LogisticRegression(penalty='l2', tol=0.01) \n",
        "\n",
        "results['LogisticRegression_2'] = model_selection.cross_val_score(model_lr_l2, X, Y, cv = kfold).mean()"
      ],
      "execution_count": null,
      "outputs": [
        {
          "output_type": "stream",
          "name": "stderr",
          "text": [
            "/usr/local/lib/python3.7/dist-packages/sklearn/linear_model/_logistic.py:940: ConvergenceWarning: lbfgs failed to converge (status=1):\n",
            "STOP: TOTAL NO. of ITERATIONS REACHED LIMIT.\n",
            "\n",
            "Increase the number of iterations (max_iter) or scale the data as shown in:\n",
            "    https://scikit-learn.org/stable/modules/preprocessing.html\n",
            "Please also refer to the documentation for alternative solver options:\n",
            "    https://scikit-learn.org/stable/modules/linear_model.html#logistic-regression\n",
            "  extra_warning_msg=_LOGISTIC_SOLVER_CONVERGENCE_MSG)\n",
            "/usr/local/lib/python3.7/dist-packages/sklearn/linear_model/_logistic.py:940: ConvergenceWarning: lbfgs failed to converge (status=1):\n",
            "STOP: TOTAL NO. of ITERATIONS REACHED LIMIT.\n",
            "\n",
            "Increase the number of iterations (max_iter) or scale the data as shown in:\n",
            "    https://scikit-learn.org/stable/modules/preprocessing.html\n",
            "Please also refer to the documentation for alternative solver options:\n",
            "    https://scikit-learn.org/stable/modules/linear_model.html#logistic-regression\n",
            "  extra_warning_msg=_LOGISTIC_SOLVER_CONVERGENCE_MSG)\n",
            "/usr/local/lib/python3.7/dist-packages/sklearn/linear_model/_logistic.py:940: ConvergenceWarning: lbfgs failed to converge (status=1):\n",
            "STOP: TOTAL NO. of ITERATIONS REACHED LIMIT.\n",
            "\n",
            "Increase the number of iterations (max_iter) or scale the data as shown in:\n",
            "    https://scikit-learn.org/stable/modules/preprocessing.html\n",
            "Please also refer to the documentation for alternative solver options:\n",
            "    https://scikit-learn.org/stable/modules/linear_model.html#logistic-regression\n",
            "  extra_warning_msg=_LOGISTIC_SOLVER_CONVERGENCE_MSG)\n",
            "/usr/local/lib/python3.7/dist-packages/sklearn/linear_model/_logistic.py:940: ConvergenceWarning: lbfgs failed to converge (status=1):\n",
            "STOP: TOTAL NO. of ITERATIONS REACHED LIMIT.\n",
            "\n",
            "Increase the number of iterations (max_iter) or scale the data as shown in:\n",
            "    https://scikit-learn.org/stable/modules/preprocessing.html\n",
            "Please also refer to the documentation for alternative solver options:\n",
            "    https://scikit-learn.org/stable/modules/linear_model.html#logistic-regression\n",
            "  extra_warning_msg=_LOGISTIC_SOLVER_CONVERGENCE_MSG)\n",
            "/usr/local/lib/python3.7/dist-packages/sklearn/linear_model/_logistic.py:940: ConvergenceWarning: lbfgs failed to converge (status=1):\n",
            "STOP: TOTAL NO. of ITERATIONS REACHED LIMIT.\n",
            "\n",
            "Increase the number of iterations (max_iter) or scale the data as shown in:\n",
            "    https://scikit-learn.org/stable/modules/preprocessing.html\n",
            "Please also refer to the documentation for alternative solver options:\n",
            "    https://scikit-learn.org/stable/modules/linear_model.html#logistic-regression\n",
            "  extra_warning_msg=_LOGISTIC_SOLVER_CONVERGENCE_MSG)\n",
            "/usr/local/lib/python3.7/dist-packages/sklearn/linear_model/_logistic.py:940: ConvergenceWarning: lbfgs failed to converge (status=1):\n",
            "STOP: TOTAL NO. of ITERATIONS REACHED LIMIT.\n",
            "\n",
            "Increase the number of iterations (max_iter) or scale the data as shown in:\n",
            "    https://scikit-learn.org/stable/modules/preprocessing.html\n",
            "Please also refer to the documentation for alternative solver options:\n",
            "    https://scikit-learn.org/stable/modules/linear_model.html#logistic-regression\n",
            "  extra_warning_msg=_LOGISTIC_SOLVER_CONVERGENCE_MSG)\n",
            "/usr/local/lib/python3.7/dist-packages/sklearn/linear_model/_logistic.py:940: ConvergenceWarning: lbfgs failed to converge (status=1):\n",
            "STOP: TOTAL NO. of ITERATIONS REACHED LIMIT.\n",
            "\n",
            "Increase the number of iterations (max_iter) or scale the data as shown in:\n",
            "    https://scikit-learn.org/stable/modules/preprocessing.html\n",
            "Please also refer to the documentation for alternative solver options:\n",
            "    https://scikit-learn.org/stable/modules/linear_model.html#logistic-regression\n",
            "  extra_warning_msg=_LOGISTIC_SOLVER_CONVERGENCE_MSG)\n",
            "/usr/local/lib/python3.7/dist-packages/sklearn/linear_model/_logistic.py:940: ConvergenceWarning: lbfgs failed to converge (status=1):\n",
            "STOP: TOTAL NO. of ITERATIONS REACHED LIMIT.\n",
            "\n",
            "Increase the number of iterations (max_iter) or scale the data as shown in:\n",
            "    https://scikit-learn.org/stable/modules/preprocessing.html\n",
            "Please also refer to the documentation for alternative solver options:\n",
            "    https://scikit-learn.org/stable/modules/linear_model.html#logistic-regression\n",
            "  extra_warning_msg=_LOGISTIC_SOLVER_CONVERGENCE_MSG)\n",
            "/usr/local/lib/python3.7/dist-packages/sklearn/linear_model/_logistic.py:940: ConvergenceWarning: lbfgs failed to converge (status=1):\n",
            "STOP: TOTAL NO. of ITERATIONS REACHED LIMIT.\n",
            "\n",
            "Increase the number of iterations (max_iter) or scale the data as shown in:\n",
            "    https://scikit-learn.org/stable/modules/preprocessing.html\n",
            "Please also refer to the documentation for alternative solver options:\n",
            "    https://scikit-learn.org/stable/modules/linear_model.html#logistic-regression\n",
            "  extra_warning_msg=_LOGISTIC_SOLVER_CONVERGENCE_MSG)\n",
            "/usr/local/lib/python3.7/dist-packages/sklearn/linear_model/_logistic.py:940: ConvergenceWarning: lbfgs failed to converge (status=1):\n",
            "STOP: TOTAL NO. of ITERATIONS REACHED LIMIT.\n",
            "\n",
            "Increase the number of iterations (max_iter) or scale the data as shown in:\n",
            "    https://scikit-learn.org/stable/modules/preprocessing.html\n",
            "Please also refer to the documentation for alternative solver options:\n",
            "    https://scikit-learn.org/stable/modules/linear_model.html#logistic-regression\n",
            "  extra_warning_msg=_LOGISTIC_SOLVER_CONVERGENCE_MSG)\n"
          ]
        }
      ]
    },
    {
      "cell_type": "code",
      "metadata": {
        "id": "zH7ka07njSjA"
      },
      "source": [
        ""
      ],
      "execution_count": null,
      "outputs": []
    },
    {
      "cell_type": "code",
      "metadata": {
        "colab": {
          "base_uri": "https://localhost:8080/",
          "height": 422
        },
        "id": "0jbtp459hOLm",
        "outputId": "981fa700-7f65-4238-a2ea-00997db42929"
      },
      "source": [
        "models_LR = [\n",
        "    \n",
        "    {\n",
        "        'label' : 'LogisticRegression_l2',\n",
        "        'model': model_lr_l2,\n",
        "        'roc_train': roc_train_X,\n",
        "        'roc_test': roc_test_X,\n",
        "        'roc_train_class': roc_train_Y,        \n",
        "        'roc_test_class': roc_test_Y,        \n",
        "    },\n",
        "]\n",
        "for m in models_LR:\n",
        "    m['model'].probability = True\n",
        "    probas = m['model'].fit(m['roc_train'], m['roc_train_class']).predict_proba(m['roc_test'])\n",
        "    fpr, tpr, thresholds = roc_curve(m['roc_test_class'], probas[:, 1])\n",
        "    roc_auc  = auc(fpr, tpr)\n",
        "    plt.plot(fpr, tpr, label='%s ROC (area = %0.2f)' % (m['label'], roc_auc))\n",
        "\n",
        "\n",
        "plt.plot([0, 1], [0, 1], 'k--')\n",
        "plt.xlim([0.0, 1.0])\n",
        "plt.ylim([0.0, 1.0])\n",
        "plt.xlabel('False Positive Rate')\n",
        "plt.ylabel('True Positive Rate')\n",
        "plt.legend(loc=0, fontsize='small')\n",
        "plt.show()"
      ],
      "execution_count": null,
      "outputs": [
        {
          "output_type": "stream",
          "name": "stderr",
          "text": [
            "/usr/local/lib/python3.7/dist-packages/sklearn/linear_model/_logistic.py:940: ConvergenceWarning: lbfgs failed to converge (status=1):\n",
            "STOP: TOTAL NO. of ITERATIONS REACHED LIMIT.\n",
            "\n",
            "Increase the number of iterations (max_iter) or scale the data as shown in:\n",
            "    https://scikit-learn.org/stable/modules/preprocessing.html\n",
            "Please also refer to the documentation for alternative solver options:\n",
            "    https://scikit-learn.org/stable/modules/linear_model.html#logistic-regression\n",
            "  extra_warning_msg=_LOGISTIC_SOLVER_CONVERGENCE_MSG)\n"
          ]
        },
        {
          "output_type": "display_data",
          "data": {
            "image/png": "[encoded data removed]",
            "text/plain": [
              "<Figure size 432x288 with 1 Axes>"
            ]
          },
          "metadata": {
            "needs_background": "light"
          }
        }
      ]
    },
    {
      "cell_type": "markdown",
      "metadata": {
        "id": "ZV9gtaRUhS6a"
      },
      "source": [
        "#Creating Neural Network classifier and Ploting ROC curve"
      ]
    },
    {
      "cell_type": "code",
      "metadata": {
        "colab": {
          "base_uri": "https://localhost:8080/"
        },
        "id": "KnzZd9hFhVcn",
        "outputId": "6f6116c4-b302-4101-8abd-8441b007d744"
      },
      "source": [
        "model_NN_1 = MLPClassifier()\n",
        "model_NN_2 = MLPClassifier(hidden_layer_sizes=2)\n",
        "model_NN_3 = MLPClassifier(hidden_layer_sizes=3)\n",
        "model_NN_4 = MLPClassifier(hidden_layer_sizes=4)\n",
        "model_NN_5 = MLPClassifier(hidden_layer_sizes=5)\n",
        "model_NN_6 = MLPClassifier(hidden_layer_sizes=6)\n",
        "model_NN_7 = MLPClassifier(hidden_layer_sizes=7)\n",
        "model_NN_8 = MLPClassifier(hidden_layer_sizes=8)\n",
        "results['Neural Network_1'] = model_selection.cross_val_score(model_NN_1, X, Y, cv = kfold).mean()\n",
        "results['Neural Network_2'] = model_selection.cross_val_score(model_NN_2, X, Y, cv = kfold).mean() \n",
        "results['Neural Network_3'] = model_selection.cross_val_score(model_NN_3, X, Y, cv = kfold).mean() \n",
        "results['Neural Network_4'] = model_selection.cross_val_score(model_NN_4, X, Y, cv = kfold).mean() \n",
        "results['Neural Network_5'] = model_selection.cross_val_score(model_NN_5, X, Y, cv = kfold).mean() \n",
        "results['Neural Network_6'] = model_selection.cross_val_score(model_NN_6, X, Y, cv = kfold).mean() \n",
        "results['Neural Network_7'] = model_selection.cross_val_score(model_NN_7, X, Y, cv = kfold).mean() \n",
        "results['Neural Network_8'] = model_selection.cross_val_score(model_NN_8, X, Y, cv = kfold).mean()"
      ],
      "execution_count": null,
      "outputs": [
        {
          "output_type": "stream",
          "name": "stderr",
          "text": [
            "/usr/local/lib/python3.7/dist-packages/sklearn/neural_network/_multilayer_perceptron.py:571: ConvergenceWarning: Stochastic Optimizer: Maximum iterations (200) reached and the optimization hasn't converged yet.\n",
            "  % self.max_iter, ConvergenceWarning)\n"
          ]
        }
      ]
    },
    {
      "cell_type": "code",
      "metadata": {
        "id": "8CFnnowQhjZg"
      },
      "source": [
        "models_NN = [\n",
        "    {\n",
        "        'label' : 'Neural Network_1',\n",
        "        'model': model_NN_1,\n",
        "        'roc_train': roc_train_X,\n",
        "        'roc_test': roc_test_X,\n",
        "        'roc_train_class': roc_train_Y,        \n",
        "        'roc_test_class': roc_test_Y,        \n",
        "    }, \n",
        "    {\n",
        "        'label' : 'Neural Network_2',\n",
        "        'model': model_NN_2,\n",
        "        'roc_train': roc_train_X,\n",
        "        'roc_test': roc_test_X,\n",
        "        'roc_train_class': roc_train_Y,        \n",
        "        'roc_test_class': roc_test_Y,        \n",
        "    }, \n",
        "    {\n",
        "        'label' : 'Neural Network_3',\n",
        "        'model': model_NN_3,\n",
        "        'roc_train': roc_train_X,\n",
        "        'roc_test': roc_test_X,\n",
        "        'roc_train_class': roc_train_Y,        \n",
        "        'roc_test_class': roc_test_Y,        \n",
        "    },\n",
        "    {\n",
        "        'label' : 'Neural Network_4',\n",
        "        'model': model_NN_4,\n",
        "        'roc_train': roc_train_X,\n",
        "        'roc_test': roc_test_X,\n",
        "        'roc_train_class': roc_train_Y,        \n",
        "        'roc_test_class': roc_test_Y,        \n",
        "    },\n",
        "    {\n",
        "        'label' : 'Neural Network_5',\n",
        "        'model': model_NN_5,\n",
        "        'roc_train': roc_train_X,\n",
        "        'roc_test': roc_test_X,\n",
        "        'roc_train_class': roc_train_Y,        \n",
        "        'roc_test_class': roc_test_Y,        \n",
        "    },\n",
        "    {\n",
        "        'label' : 'Neural Network_6',\n",
        "        'model': model_NN_6,\n",
        "        'roc_train': roc_train_X,\n",
        "        'roc_test': roc_test_X,\n",
        "        'roc_train_class': roc_train_Y,        \n",
        "        'roc_test_class': roc_test_Y,        \n",
        "    },\n",
        "    {\n",
        "        'label' : 'Neural Network_7',\n",
        "        'model': model_NN_7,\n",
        "        'roc_train': roc_train_X,\n",
        "        'roc_test': roc_test_X,\n",
        "        'roc_train_class': roc_train_Y,        \n",
        "        'roc_test_class': roc_test_Y,        \n",
        "    },\n",
        "    {\n",
        "        'label' : 'Neural Network_8',\n",
        "        'model': model_NN_8,\n",
        "        'roc_train': roc_train_X,\n",
        "        'roc_test': roc_test_X,\n",
        "        'roc_train_class': roc_train_Y,        \n",
        "        'roc_test_class': roc_test_Y,        \n",
        "    },\n",
        "]\n"
      ],
      "execution_count": null,
      "outputs": []
    },
    {
      "cell_type": "code",
      "metadata": {
        "id": "_gsNnkzsm1q8",
        "colab": {
          "base_uri": "https://localhost:8080/",
          "height": 283
        },
        "outputId": "58550646-dbc8-4ff1-8dd0-1b86c87a3b17"
      },
      "source": [
        "for m in models_NN:\n",
        "    m['model'].probability = True\n",
        "    probas = m['model'].fit(m['roc_train'], m['roc_train_class']).predict_proba(m['roc_test'])\n",
        "    fpr, tpr, thresholds = roc_curve(m['roc_test_class'], probas[:, 1])\n",
        "    roc_auc  = auc(fpr, tpr)\n",
        "    plt.plot(fpr, tpr, label='%s ROC (area = %0.2f)' % (m['label'], roc_auc))\n",
        "\n",
        "\n",
        "plt.plot([0, 1], [0, 1], 'k--')\n",
        "plt.xlim([0.0, 1.0])\n",
        "plt.ylim([0.0, 1.0])\n",
        "plt.xlabel('False Positive Rate')\n",
        "plt.ylabel('True Positive Rate')\n",
        "plt.legend(loc=0, fontsize='small')\n",
        "plt.show()"
      ],
      "execution_count": null,
      "outputs": [
        {
          "output_type": "display_data",
          "data": {
            "image/png": "[encoded data removed]",
            "text/plain": [
              "<Figure size 432x288 with 1 Axes>"
            ]
          },
          "metadata": {
            "needs_background": "light"
          }
        }
      ]
    },
    {
      "cell_type": "code",
      "metadata": {
        "id": "ARIz2savm3UF",
        "colab": {
          "base_uri": "https://localhost:8080/"
        },
        "outputId": "9271a7f6-0efa-4edf-f14c-9252a6362f29"
      },
      "source": [
        "results"
      ],
      "execution_count": null,
      "outputs": [
        {
          "output_type": "execute_result",
          "data": {
            "text/plain": [
              "{'DecisionTree_Entropy_1': 0.83171202500265,\n",
              " 'DecisionTree_Entropy_2': 0.82141826438114,\n",
              " 'DecisionTree_Entropy_N': 0.6123009246174487,\n",
              " 'DecisionTree_Gini_1': 0.83171202500265,\n",
              " 'DecisionTree_Gini_2': 0.8227286490624183,\n",
              " 'DecisionTree_Gini_N': 0.6481631515828107,\n",
              " 'LogisticRegression_2': 0.8529098796005812,\n",
              " 'NB': 0.8082629261264651,\n",
              " 'Neural Network_1': 0.8211288004121201,\n",
              " 'Neural Network_2': 0.8954071803383107,\n",
              " 'Neural Network_3': 0.8349408225731312,\n",
              " 'Neural Network_4': 0.8296731431274609,\n",
              " 'Neural Network_5': 0.820179970076716,\n",
              " 'Neural Network_6': 0.8349897671518558,\n",
              " 'Neural Network_7': 0.8263727268214524,\n",
              " 'Neural Network_8': 0.8202536522430496,\n",
              " 'RandomForestClassifier_Entropy_1': 0.8549028943567054,\n",
              " 'RandomForestClassifier_Entropy_2': 0.8476422060504273,\n",
              " 'RandomForestClassifier_Entropy_N': 0.6739973288593437,\n",
              " 'RandomForestClassifier_Gini_1': 0.8553399997476718,\n",
              " 'RandomForestClassifier_Gini_2': 0.8448252162092276,\n",
              " 'RandomForestClassifier_Gini_N': 0.6533370156729951}"
            ]
          },
          "metadata": {},
          "execution_count": 33
        }
      ]
    }
  ]
}